{
  "nbformat": 4,
  "nbformat_minor": 0,
  "metadata": {
    "colab": {
      "provenance": [],
      "gpuType": "T4"
    },
    "kernelspec": {
      "name": "python3",
      "display_name": "Python 3"
    },
    "language_info": {
      "name": "python"
    },
    "accelerator": "GPU"
  },
  "cells": [
    {
      "cell_type": "code",
      "execution_count": 7,
      "metadata": {
        "colab": {
          "base_uri": "https://localhost:8080/"
        },
        "id": "KPUQnVGWk3v-",
        "outputId": "e6b5197a-9b79-47cb-9ce5-b2bc221964f1"
      },
      "outputs": [
        {
          "output_type": "stream",
          "name": "stdout",
          "text": [
            "fatal: destination path 'gray-scott-reaction-diffusion-hpc' already exists and is not an empty directory.\n"
          ]
        }
      ],
      "source": [
        "!git clone https://github.com/HPC-codes/gray-scott-reaction-diffusion-hpc.git"
      ]
    },
    {
      "cell_type": "code",
      "source": [
        "!pip3 install pycuda"
      ],
      "metadata": {
        "id": "e6THDhUTlUA1",
        "colab": {
          "base_uri": "https://localhost:8080/"
        },
        "outputId": "919764d6-772e-4b57-f240-e9d8d580d5de"
      },
      "execution_count": null,
      "outputs": [
        {
          "output_type": "stream",
          "name": "stdout",
          "text": [
            "Collecting pycuda\n",
            "  Downloading pycuda-2025.1.1.tar.gz (1.7 MB)\n",
            "\u001b[?25l     \u001b[90m━━━━━━━━━━━━━━━━━━━━━━━━━━━━━━━━━━━━━━━━\u001b[0m \u001b[32m0.0/1.7 MB\u001b[0m \u001b[31m?\u001b[0m eta \u001b[36m-:--:--\u001b[0m\r\u001b[2K     \u001b[90m━━━━━━━━━━━━━━━━━━━━━━━━━━━━━━━━━━━━━━━━\u001b[0m \u001b[32m1.7/1.7 MB\u001b[0m \u001b[31m72.9 MB/s\u001b[0m eta \u001b[36m0:00:00\u001b[0m\n",
            "\u001b[?25h  Installing build dependencies ... \u001b[?25l\u001b[?25hdone\n",
            "  Getting requirements to build wheel ... \u001b[?25l\u001b[?25hdone\n",
            "  Preparing metadata (pyproject.toml) ... \u001b[?25l\u001b[?25hdone\n",
            "Collecting pytools>=2011.2 (from pycuda)\n",
            "  Downloading pytools-2025.1.7-py3-none-any.whl.metadata (2.9 kB)\n",
            "Requirement already satisfied: platformdirs>=2.2.0 in /usr/local/lib/python3.11/dist-packages (from pycuda) (4.3.8)\n",
            "Requirement already satisfied: mako in /usr/lib/python3/dist-packages (from pycuda) (1.1.3)\n",
            "Collecting siphash24>=1.6 (from pytools>=2011.2->pycuda)\n",
            "  Downloading siphash24-1.7-cp311-cp311-manylinux_2_17_x86_64.manylinux2014_x86_64.whl.metadata (3.3 kB)\n",
            "Requirement already satisfied: typing-extensions>=4.5 in /usr/local/lib/python3.11/dist-packages (from pytools>=2011.2->pycuda) (4.14.0)\n",
            "Downloading pytools-2025.1.7-py3-none-any.whl (96 kB)\n",
            "\u001b[2K   \u001b[90m━━━━━━━━━━━━━━━━━━━━━━━━━━━━━━━━━━━━━━━━\u001b[0m \u001b[32m96.0/96.0 kB\u001b[0m \u001b[31m11.6 MB/s\u001b[0m eta \u001b[36m0:00:00\u001b[0m\n",
            "\u001b[?25hDownloading siphash24-1.7-cp311-cp311-manylinux_2_17_x86_64.manylinux2014_x86_64.whl (105 kB)\n",
            "\u001b[2K   \u001b[90m━━━━━━━━━━━━━━━━━━━━━━━━━━━━━━━━━━━━━━━━\u001b[0m \u001b[32m105.6/105.6 kB\u001b[0m \u001b[31m12.4 MB/s\u001b[0m eta \u001b[36m0:00:00\u001b[0m\n",
            "\u001b[?25hBuilding wheels for collected packages: pycuda\n",
            "  Building wheel for pycuda (pyproject.toml) ... \u001b[?25l\u001b[?25hdone\n",
            "  Created wheel for pycuda: filename=pycuda-2025.1.1-cp311-cp311-linux_x86_64.whl size=660712 sha256=ac1de5ee20007700337cff7b27c1918ceb2de21d93558a3dfe2fe76f199566f4\n",
            "  Stored in directory: /root/.cache/pip/wheels/49/0a/64/6530a5fde64f984ebb4992e38744fdfd2a61f510377b3a24d9\n",
            "Successfully built pycuda\n",
            "Installing collected packages: siphash24, pytools, pycuda\n",
            "Successfully installed pycuda-2025.1.1 pytools-2025.1.7 siphash24-1.7\n"
          ]
        }
      ]
    },
    {
      "cell_type": "code",
      "source": [
        "!which nvcc"
      ],
      "metadata": {
        "colab": {
          "base_uri": "https://localhost:8080/"
        },
        "id": "NinJGv2Pt917",
        "outputId": "8abb85a0-5eaf-4f32-d852-f828f627ae1f"
      },
      "execution_count": 8,
      "outputs": [
        {
          "output_type": "stream",
          "name": "stdout",
          "text": [
            "/usr/local/cuda/bin/nvcc\n"
          ]
        }
      ]
    },
    {
      "cell_type": "code",
      "source": [
        "!chmod +x /content/select_mode.sh"
      ],
      "metadata": {
        "id": "GI8AXMLPOtzb"
      },
      "execution_count": 27,
      "outputs": []
    },
    {
      "cell_type": "code",
      "source": [
        "!ls /content/gray-scott-reaction-diffusion-hpc/src/"
      ],
      "metadata": {
        "colab": {
          "base_uri": "https://localhost:8080/"
        },
        "id": "UkybQtd_uXX6",
        "outputId": "5fd8b400-979c-42bc-9289-74800df480c9"
      },
      "execution_count": 28,
      "outputs": [
        {
          "output_type": "stream",
          "name": "stdout",
          "text": [
            "cuda.cu  cuda_T4.cpp  cuda_T4.py  mpi.cpp  serial.cpp\n"
          ]
        }
      ]
    },
    {
      "cell_type": "code",
      "source": [
        "!ls Makefile"
      ],
      "metadata": {
        "id": "JUSodZbPvbWT",
        "colab": {
          "base_uri": "https://localhost:8080/"
        },
        "outputId": "6c57ec99-01a6-4ac5-8bd2-2e783eeef647"
      },
      "execution_count": 29,
      "outputs": [
        {
          "output_type": "stream",
          "name": "stdout",
          "text": [
            "Makefile\n"
          ]
        }
      ]
    },
    {
      "cell_type": "code",
      "source": [
        "!make -C /content/gray-scott-reaction-diffusion-hpc cuda"
      ],
      "metadata": {
        "id": "E5KsxDEXsViM",
        "colab": {
          "base_uri": "https://localhost:8080/"
        },
        "outputId": "85353133-a3ad-4ec8-b26c-ff8d33960742"
      },
      "execution_count": 30,
      "outputs": [
        {
          "output_type": "stream",
          "name": "stdout",
          "text": [
            "make: Entering directory '/content/gray-scott-reaction-diffusion-hpc'\n",
            "make: *** No rule to make target 'src/cuda.cpp', needed by 'bin/gray_scott_cuda'.  Stop.\n",
            "make: Leaving directory '/content/gray-scott-reaction-diffusion-hpc'\n"
          ]
        }
      ]
    },
    {
      "cell_type": "code",
      "source": [
        "!make run_cuda"
      ],
      "metadata": {
        "colab": {
          "base_uri": "https://localhost:8080/"
        },
        "id": "YN_BDX6XP3ym",
        "outputId": "2a1c40b2-290e-4288-c11d-b23ecec7746d"
      },
      "execution_count": 33,
      "outputs": [
        {
          "output_type": "stream",
          "name": "stdout",
          "text": [
            "nvcc -O3 --default-stream per-thread -arch=sm_75 /content/gray-scott-reaction-diffusion-hpc/src/cuda.cu -o /content/gray-scott-reaction-diffusion-hpc/bin/gray_scott_cuda\n",
            "Ejecutando versión CUDA...\n",
            "Usando dispositivo CUDA: Tesla T4\n",
            "Tamaño de la malla (N x N, recomendado 100-2000): 400\n",
            "================================\n",
            "    Geometrías disponibles:\n",
            "================================\n",
            "1. Focos circulares (especificar número)\n",
            "2. Línea horizontal central\n",
            "3. Cuadrado central\n",
            "4. Patrón hexagonal\n",
            "5. Cruz central\n",
            "================================\n",
            "Seleccione el tipo de geometría (1-5): 1\n",
            "Número de focos a crear: 4\n",
            "\n",
            "=== Simulación Belousov-Zhabotinsky con Geometrías Personalizadas ===\n",
            "Tamaño: 400x400 | Pasos: 150000\n",
            "Geometría seleccionada: 4 focos circulares\n",
            "Salida: BZ_Geometry_1\n",
            "\n",
            "Entropía inicial: 0.010508\n",
            "Progreso: 150000/150000 | Entropía:  0.499 | ∇: 0.0154\n",
            "\n",
            "=== Resultados ===\n",
            "=== Tiempos de ejecución ===\n",
            "Inicialización: 0.0092 s\n",
            "Simulación principal: 16.8481 s\n",
            "Guardado de datos: 0.7837 s\n",
            "Cálculo de entropía: 0.9291 s\n",
            "Cálculo de gradiente: 1.0239 s\n",
            "Métricas y escritura: 1.9927 s\n",
            "---------------------------------\n",
            "Suma de tiempos parciales: 21.5868 s\n",
            "Tiempo total medido: 35.7932 s\n",
            "Datos guardados en:\n",
            "- BZ_Geometry_1/bz_XXXXX.bin (patrones espaciales en binario)\n",
            "- BZ_Geometry_1/metrics.bin (métricas cuantitativas en binario)\n"
          ]
        }
      ]
    },
    {
      "cell_type": "code",
      "source": [
        "!python /content/gray-scott-reaction-diffusion-hpc/scripts/vd_cuda.py"
      ],
      "metadata": {
        "colab": {
          "base_uri": "https://localhost:8080/"
        },
        "id": "yv1lseITRBMd",
        "outputId": "4620d587-d360-44b1-dbed-0d8d87f30a4f"
      },
      "execution_count": 40,
      "outputs": [
        {
          "output_type": "stream",
          "name": "stdout",
          "text": [
            "\n",
            "Procesando simulación en: /content/BZ_Geometry_1\n",
            "Dimensiones de la simulación: 400x400\n",
            "\n",
            "Calculando rangos de color...\n",
            "Rango de color seguro: [0.0000, 0.2817]\n",
            "\n",
            "Iniciando renderizado...\n",
            "Progreso: 1500/1500 (100.0%)\n",
            "\n",
            "Video generado exitosamente: BZ_Focos_Circulares_400x400_20250629_201437.mp4\n",
            "\n",
            "Error al generar video: name 'get_ipython' is not defined\n"
          ]
        }
      ]
    },
    {
      "cell_type": "code",
      "source": [
        "!chmod +x organizar_resultados.sh"
      ],
      "metadata": {
        "id": "dapxkajhaRgz"
      },
      "execution_count": 43,
      "outputs": []
    },
    {
      "cell_type": "code",
      "source": [
        "!bash organizar_resultados.sh"
      ],
      "metadata": {
        "colab": {
          "base_uri": "https://localhost:8080/"
        },
        "id": "ALurhHyoaUN7",
        "outputId": "199e3009-4520-4857-cc6c-49f29da87a39"
      },
      "execution_count": 44,
      "outputs": [
        {
          "output_type": "stream",
          "name": "stdout",
          "text": [
            "Moviendo carpeta: /content/BZ_Geometry_1\n",
            "Moviendo video: /content/BZ_Focos_Circulares_400x400_20250629_201437.mp4\n",
            "Organización completada.\n"
          ]
        }
      ]
    }
  ]
}