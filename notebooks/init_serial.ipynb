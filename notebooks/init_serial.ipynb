{
  "nbformat": 4,
  "nbformat_minor": 0,
  "metadata": {
    "colab": {
      "provenance": []
    },
    "kernelspec": {
      "name": "python3",
      "display_name": "Python 3"
    },
    "language_info": {
      "name": "python"
    }
  },
  "cells": [
    {
      "cell_type": "code",
      "execution_count": 1,
      "metadata": {
        "colab": {
          "base_uri": "https://localhost:8080/"
        },
        "id": "KPUQnVGWk3v-",
        "outputId": "5bf7135f-61b1-46ae-d2ed-25f1ed91f00a"
      },
      "outputs": [
        {
          "output_type": "stream",
          "name": "stdout",
          "text": [
            "Cloning into 'gray-scott-reaction-diffusion-hpc'...\n",
            "remote: Enumerating objects: 78, done.\u001b[K\n",
            "remote: Counting objects: 100% (78/78), done.\u001b[K\n",
            "remote: Compressing objects: 100% (67/67), done.\u001b[K\n",
            "remote: Total 78 (delta 27), reused 26 (delta 4), pack-reused 0 (from 0)\u001b[K\n",
            "Receiving objects: 100% (78/78), 1.69 MiB | 6.71 MiB/s, done.\n",
            "Resolving deltas: 100% (27/27), done.\n"
          ]
        }
      ],
      "source": [
        "!git clone https://github.com/HPC-codes/gray-scott-reaction-diffusion-hpc.git"
      ]
    },
    {
      "cell_type": "code",
      "source": [
        "!pip3 install pycuda"
      ],
      "metadata": {
        "id": "e6THDhUTlUA1",
        "colab": {
          "base_uri": "https://localhost:8080/"
        },
        "outputId": "1dd87baa-1770-4ccf-cb8a-c002793d554a"
      },
      "execution_count": 2,
      "outputs": [
        {
          "output_type": "stream",
          "name": "stdout",
          "text": [
            "Collecting pycuda\n",
            "  Downloading pycuda-2025.1.1.tar.gz (1.7 MB)\n",
            "\u001b[?25l     \u001b[90m━━━━━━━━━━━━━━━━━━━━━━━━━━━━━━━━━━━━━━━━\u001b[0m \u001b[32m0.0/1.7 MB\u001b[0m \u001b[31m?\u001b[0m eta \u001b[36m-:--:--\u001b[0m\r\u001b[2K     \u001b[91m━━━━\u001b[0m\u001b[91m╸\u001b[0m\u001b[90m━━━━━━━━━━━━━━━━━━━━━━━━━━━━━━━━━━━\u001b[0m \u001b[32m0.2/1.7 MB\u001b[0m \u001b[31m5.5 MB/s\u001b[0m eta \u001b[36m0:00:01\u001b[0m\r\u001b[2K     \u001b[91m━━━━━━━━━━━━━━━━━━━━━━━━━━━━━━━━━━\u001b[0m\u001b[91m╸\u001b[0m\u001b[90m━━━━━\u001b[0m \u001b[32m1.5/1.7 MB\u001b[0m \u001b[31m21.0 MB/s\u001b[0m eta \u001b[36m0:00:01\u001b[0m\r\u001b[2K     \u001b[90m━━━━━━━━━━━━━━━━━━━━━━━━━━━━━━━━━━━━━━━━\u001b[0m \u001b[32m1.7/1.7 MB\u001b[0m \u001b[31m18.2 MB/s\u001b[0m eta \u001b[36m0:00:00\u001b[0m\n",
            "\u001b[?25h  Installing build dependencies ... \u001b[?25l\u001b[?25hdone\n",
            "  Getting requirements to build wheel ... \u001b[?25l\u001b[?25hdone\n",
            "  Preparing metadata (pyproject.toml) ... \u001b[?25l\u001b[?25hdone\n",
            "Collecting pytools>=2011.2 (from pycuda)\n",
            "  Downloading pytools-2025.1.7-py3-none-any.whl.metadata (2.9 kB)\n",
            "Requirement already satisfied: platformdirs>=2.2.0 in /usr/local/lib/python3.11/dist-packages (from pycuda) (4.3.8)\n",
            "Requirement already satisfied: mako in /usr/lib/python3/dist-packages (from pycuda) (1.1.3)\n",
            "Collecting siphash24>=1.6 (from pytools>=2011.2->pycuda)\n",
            "  Downloading siphash24-1.7-cp311-cp311-manylinux_2_17_x86_64.manylinux2014_x86_64.whl.metadata (3.3 kB)\n",
            "Requirement already satisfied: typing-extensions>=4.5 in /usr/local/lib/python3.11/dist-packages (from pytools>=2011.2->pycuda) (4.14.0)\n",
            "Downloading pytools-2025.1.7-py3-none-any.whl (96 kB)\n",
            "\u001b[2K   \u001b[90m━━━━━━━━━━━━━━━━━━━━━━━━━━━━━━━━━━━━━━━━\u001b[0m \u001b[32m96.0/96.0 kB\u001b[0m \u001b[31m8.5 MB/s\u001b[0m eta \u001b[36m0:00:00\u001b[0m\n",
            "\u001b[?25hDownloading siphash24-1.7-cp311-cp311-manylinux_2_17_x86_64.manylinux2014_x86_64.whl (105 kB)\n",
            "\u001b[2K   \u001b[90m━━━━━━━━━━━━━━━━━━━━━━━━━━━━━━━━━━━━━━━━\u001b[0m \u001b[32m105.6/105.6 kB\u001b[0m \u001b[31m9.4 MB/s\u001b[0m eta \u001b[36m0:00:00\u001b[0m\n",
            "\u001b[?25hBuilding wheels for collected packages: pycuda\n",
            "  Building wheel for pycuda (pyproject.toml) ... \u001b[?25l\u001b[?25hdone\n",
            "  Created wheel for pycuda: filename=pycuda-2025.1.1-cp311-cp311-linux_x86_64.whl size=660712 sha256=40356c93abb95024cdcbd701cf0b696a41433336321f77a7f62a6aeb25072bab\n",
            "  Stored in directory: /root/.cache/pip/wheels/49/0a/64/6530a5fde64f984ebb4992e38744fdfd2a61f510377b3a24d9\n",
            "Successfully built pycuda\n",
            "Installing collected packages: siphash24, pytools, pycuda\n",
            "Successfully installed pycuda-2025.1.1 pytools-2025.1.7 siphash24-1.7\n"
          ]
        }
      ]
    },
    {
      "cell_type": "code",
      "source": [
        "!which nvcc"
      ],
      "metadata": {
        "colab": {
          "base_uri": "https://localhost:8080/"
        },
        "id": "NinJGv2Pt917",
        "outputId": "413d0612-0185-4e57-b579-e54e950d8bbb"
      },
      "execution_count": 3,
      "outputs": [
        {
          "output_type": "stream",
          "name": "stdout",
          "text": [
            "/usr/local/cuda/bin/nvcc\n"
          ]
        }
      ]
    },
    {
      "cell_type": "code",
      "source": [
        "!chmod +x /content/gray-scott-reaction-diffusion-hpc/select_mode.sh"
      ],
      "metadata": {
        "id": "GI8AXMLPOtzb"
      },
      "execution_count": 4,
      "outputs": []
    },
    {
      "cell_type": "code",
      "source": [
        "!ls /content/gray-scott-reaction-diffusion-hpc/src/"
      ],
      "metadata": {
        "colab": {
          "base_uri": "https://localhost:8080/"
        },
        "id": "UkybQtd_uXX6",
        "outputId": "ffd1f943-74d8-44cf-c36a-85bb3a6bd27e"
      },
      "execution_count": 5,
      "outputs": [
        {
          "output_type": "stream",
          "name": "stdout",
          "text": [
            "cuda.cpp  cuda_T4.cpp  cuda_T4.py  mpi.cpp  serial.cpp\n"
          ]
        }
      ]
    },
    {
      "cell_type": "code",
      "source": [
        "!rm /content/gray-scott-reaction-diffusion-hpc/bin/gray_scott_serial"
      ],
      "metadata": {
        "colab": {
          "base_uri": "https://localhost:8080/"
        },
        "id": "dHb40jxmrjd6",
        "outputId": "79aee457-e427-440f-ae70-80091d7e97a0"
      },
      "execution_count": 6,
      "outputs": [
        {
          "output_type": "stream",
          "name": "stdout",
          "text": [
            "rm: cannot remove '/content/gray-scott-reaction-diffusion-hpc/bin/gray_scott_serial': No such file or directory\n"
          ]
        }
      ]
    },
    {
      "cell_type": "code",
      "source": [
        "!make -C /content/gray-scott-reaction-diffusion-hpc serial\n"
      ],
      "metadata": {
        "id": "E5KsxDEXsViM",
        "colab": {
          "base_uri": "https://localhost:8080/"
        },
        "outputId": "5dd189c2-ccb7-44cc-decc-6fbb245760da"
      },
      "execution_count": 7,
      "outputs": [
        {
          "output_type": "stream",
          "name": "stdout",
          "text": [
            "make: Entering directory '/content/gray-scott-reaction-diffusion-hpc'\n",
            "g++ -Wall -O3 /content/gray-scott-reaction-diffusion-hpc/src/serial.cpp -o /content/gray-scott-reaction-diffusion-hpc/bin/gray_scott_serial\n",
            "make: Leaving directory '/content/gray-scott-reaction-diffusion-hpc'\n"
          ]
        }
      ]
    },
    {
      "cell_type": "code",
      "source": [
        "!ls -lh /content/gray-scott-reaction-diffusion-hpc/bin/"
      ],
      "metadata": {
        "colab": {
          "base_uri": "https://localhost:8080/"
        },
        "id": "W7GHptofrR_K",
        "outputId": "331aedca-97e0-4492-e630-7434003037d2"
      },
      "execution_count": 8,
      "outputs": [
        {
          "output_type": "stream",
          "name": "stdout",
          "text": [
            "total 48K\n",
            "-rw-r--r-- 1 root root   0 Jun 29 21:58 bin\n",
            "-rwxr-xr-x 1 root root 46K Jun 29 22:01 gray_scott_serial\n"
          ]
        }
      ]
    },
    {
      "cell_type": "code",
      "source": [
        "!/content/gray-scott-reaction-diffusion-hpc/bin/gray_scott_serial"
      ],
      "metadata": {
        "colab": {
          "base_uri": "https://localhost:8080/"
        },
        "id": "YN_BDX6XP3ym",
        "outputId": "03cf0cc0-b7bd-478b-d84b-78ef7f25749d"
      },
      "execution_count": 9,
      "outputs": [
        {
          "output_type": "stream",
          "name": "stdout",
          "text": [
            "Tamaño de la malla (N x N, recomendado 100-2000): 400\n",
            "================================\n",
            "    Geometrías disponibles:\n",
            "================================\n",
            "1. Focos circulares (especificar número)\n",
            "2. Línea horizontal central\n",
            "3. Cuadrado central\n",
            "4. Patrón hexagonal\n",
            "5. Cruz central\n",
            "================================\n",
            "Seleccione el tipo de geometría (1-5): 1\n",
            "Número de focos a crear: 4\n",
            "\n",
            "=== Simulación Belousov-Zhabotinsky con Geometrías Personalizadas ===\n",
            "Tamaño: 400x400 | Pasos: 150000\n",
            "Geometría seleccionada: 4 focos circulares\n",
            "Salida: BZ_Geometry_1\n",
            "\n",
            "Entropía inicial: 0.010508\n",
            "Progreso: 150000/150000 | Entropía:    0.5 | ∇: 0.0156\n",
            "\n",
            "=== Resultados ===\n",
            "=== Tiempos de ejecución ===\n",
            "Inicialización: 0.0064 s\n",
            "Simulación principal: 632.3570 s\n",
            "Guardado de datos: 112.7054 s\n",
            "Cálculo de entropía: 0.5183 s\n",
            "Cálculo de gradiente: 0.8818 s\n",
            "Métricas y escritura: 1.4131 s\n",
            "---------------------------------\n",
            "Suma de tiempos parciales: 747.8820 s\n",
            "Tiempo total medido: 661.8618 s\n",
            "Datos guardados en:\n",
            "- BZ_Geometry_1/bz_XXXXX.csv (patrones espaciales)\n",
            "- BZ_Geometry_1/metrics.csv (métricas cuantitativas)\n"
          ]
        }
      ]
    },
    {
      "cell_type": "code",
      "source": [
        "!python /content/gray-scott-reaction-diffusion-hpc/scripts/vd_serial.py"
      ],
      "metadata": {
        "colab": {
          "base_uri": "https://localhost:8080/"
        },
        "id": "yv1lseITRBMd",
        "outputId": "9f91293b-b224-47aa-be02-5b7aa2f11077"
      },
      "execution_count": 10,
      "outputs": [
        {
          "output_type": "stream",
          "name": "stdout",
          "text": [
            "\n",
            "Procesando simulación en: BZ_Geometry_1\n",
            "Dimensiones de la simulación: 400x400\n",
            "\n",
            "Calculando rangos de color...\n",
            "Rango de color fijado: 0.00 - 0.28\n",
            "\n",
            "Iniciando renderizado...\n",
            "Progreso: 1500/1500 (100.0%)\n",
            "\n",
            "Video generado exitosamente: BZ_Focos_Circulares_400x400.mp4\n",
            "\n",
            "Error al generar video: name 'get_ipython' is not defined\n"
          ]
        }
      ]
    },
    {
      "cell_type": "code",
      "source": [
        "!chmod +x /content/gray-scott-reaction-diffusion-hpc/organizar_resultados.sh"
      ],
      "metadata": {
        "id": "dapxkajhaRgz"
      },
      "execution_count": 12,
      "outputs": []
    },
    {
      "cell_type": "code",
      "source": [
        "!bash /content/gray-scott-reaction-diffusion-hpc/organizar_resultados.sh"
      ],
      "metadata": {
        "colab": {
          "base_uri": "https://localhost:8080/"
        },
        "id": "ALurhHyoaUN7",
        "outputId": "c21cb3e6-5641-4021-9525-42b40bf90a47"
      },
      "execution_count": 14,
      "outputs": [
        {
          "output_type": "stream",
          "name": "stdout",
          "text": [
            "Moviendo carpeta: /content/BZ_Geometry_1\n",
            "Moviendo video: /content/BZ_Focos_Circulares_400x400.mp4\n",
            "Organización completada.\n"
          ]
        }
      ]
    }
  ]
}